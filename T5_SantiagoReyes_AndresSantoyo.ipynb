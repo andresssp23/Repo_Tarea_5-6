{
 "cells": [
  {
   "cell_type": "markdown",
   "metadata": {},
   "source": [
    "<img style=\"float: left; margin: 30px 15px 15px 15px;\" src=\"https://encrypted-tbn0.gstatic.com/images?q=tbn:ANd9GcTFzQj91sOlkeDFkg5HDbjtR4QJYmLXkfMNig&usqp=CAU\" width=\"400\" height=\"500\" /> \n",
    "    \n",
    "    \n",
    "### <font color='navy'> Simulación matemática. \n",
    "\n",
    "**Nombres:** Santiago Reyes, Andrés Santoyo\n",
    "\n",
    "**Fecha:** 2 de octubre, 2023\n",
    "\n",
    "**Expediente** : 745826, 744417.\n",
    "    \n",
    "**Profesor:** Oscar David Jaramillo Zuluaga.\n",
    "    \n",
    "**Link Github**: https://github.com/SantiagoReyess/Repo_Tarea_5-6o\n",
    "\n",
    "# Tarea: 5 Clase: 10 "
   ]
  },
  {
   "cell_type": "markdown",
   "metadata": {},
   "source": [
    "## Enunciado de tarea (Transcibirlo)\n"
   ]
  },
  {
   "cell_type": "markdown",
   "metadata": {},
   "source": [
    "### Ejercicio 1: (enunciado) Transcribirlo"
   ]
  },
  {
   "cell_type": "markdown",
   "metadata": {},
   "source": [
    "## TAREA 5\n",
    "1. Realizar las siguientes integrales. Poner los resultados en una tabla cuyas filas correspondan a la cantidad de términos utilizados en la aproximación (usar 10, 100, 1000, 10000 y 100000 términos) y cuyas columnas correspondan a las funciones.\n",
    "    + $\\int_{1}^{5} \\log_{10}(2x)+8^x\\text{d}x$.\n",
    "    + $\\int_1^5 \\frac{2^x}{x^4} \\text{d}x$\n",
    "\n",
    "**Entregable: se debe subir un archivo con extensión .ipnyb y nombrarlo con el formato T6PrimerNombrePrimerApellido.ipynb**\n",
    "\n",
    "## Fecha de entrega: 2 de octubre a las 19:59 antes de la clase."
   ]
  },
  {
   "cell_type": "markdown",
   "metadata": {},
   "source": [
    "Código de solución estudiante 1"
   ]
  },
  {
   "cell_type": "code",
   "execution_count": 7,
   "metadata": {},
   "outputs": [
    {
     "data": {
      "text/html": [
       "<div>\n",
       "<style scoped>\n",
       "    .dataframe tbody tr th:only-of-type {\n",
       "        vertical-align: middle;\n",
       "    }\n",
       "\n",
       "    .dataframe tbody tr th {\n",
       "        vertical-align: top;\n",
       "    }\n",
       "\n",
       "    .dataframe thead th {\n",
       "        text-align: right;\n",
       "    }\n",
       "</style>\n",
       "<table border=\"1\" class=\"dataframe\">\n",
       "  <thead>\n",
       "    <tr style=\"text-align: right;\">\n",
       "      <th></th>\n",
       "      <th>Aprox f1</th>\n",
       "      <th>Aprox f2</th>\n",
       "    </tr>\n",
       "    <tr>\n",
       "      <th>Cantidad de términos</th>\n",
       "      <th></th>\n",
       "      <th></th>\n",
       "    </tr>\n",
       "  </thead>\n",
       "  <tbody>\n",
       "    <tr>\n",
       "      <th>10</th>\n",
       "      <td>20758.98201</td>\n",
       "      <td>1.008909</td>\n",
       "    </tr>\n",
       "    <tr>\n",
       "      <th>100</th>\n",
       "      <td>11254.76473</td>\n",
       "      <td>0.915723</td>\n",
       "    </tr>\n",
       "    <tr>\n",
       "      <th>1000</th>\n",
       "      <td>16633.32744</td>\n",
       "      <td>0.984648</td>\n",
       "    </tr>\n",
       "    <tr>\n",
       "      <th>10000</th>\n",
       "      <td>16075.407346</td>\n",
       "      <td>1.009825</td>\n",
       "    </tr>\n",
       "    <tr>\n",
       "      <th>100000</th>\n",
       "      <td>15764.562155</td>\n",
       "      <td>1.015812</td>\n",
       "    </tr>\n",
       "  </tbody>\n",
       "</table>\n",
       "</div>"
      ],
      "text/plain": [
       "                          Aprox f1  Aprox f2\n",
       "Cantidad de términos                        \n",
       "10                     20758.98201  1.008909\n",
       "100                    11254.76473  0.915723\n",
       "1000                   16633.32744  0.984648\n",
       "10000                 16075.407346  1.009825\n",
       "100000                15764.562155  1.015812"
      ]
     },
     "execution_count": 7,
     "metadata": {},
     "output_type": "execute_result"
    }
   ],
   "source": [
    "import numpy as np\n",
    "import pandas as pd\n",
    "\n",
    "def montecarlo1(f, a, b, N):\n",
    "    ui = np.random.uniform(a, b, N)\n",
    "    integral = ((b-a)/N)*np.sum(f(ui))\n",
    "    return integral\n",
    "\n",
    "# Resolver\n",
    "# Definir las funciones que vamos a integrar\n",
    "def f1(x):\n",
    "    return np.log10(2*x)+ (8**x)\n",
    "\n",
    "def f2(x):\n",
    "    return (2**x)/(x**4)\n",
    "\n",
    "# 2. Definimos los limites de integracion\n",
    "a, b = 1, 5\n",
    "\n",
    "# 3. Definimos cantidades de terminos\n",
    "N = np.logspace(1, 5, 5).astype(int)\n",
    "\n",
    "# Crear el DataFrame de pandas (tabla) que contendrá la información\n",
    "tabla2 = pd.DataFrame(index=N, columns = ['Aprox f1', 'Aprox f2'])\n",
    "\n",
    "# Agregar nombre al índice para que aprezca en la tabla\n",
    "tabla2.index.name = 'Cantidad de términos'\n",
    "\n",
    "# Rellenar las celdas de la aproximación de cada función\n",
    "for n in N:\n",
    "    aprox_f1 = montecarlo1(f1, a, b, n)\n",
    "    aprox_f2 = montecarlo1(f2, a, b, n)\n",
    "\n",
    "    tabla2.loc[n, 'Aprox f1'] = aprox_f1\n",
    "    tabla2.loc[n, 'Aprox f2'] = aprox_f2\n",
    "\n",
    "tabla2"
   ]
  },
  {
   "cell_type": "markdown",
   "metadata": {},
   "source": [
    "Código de solución estudiante 2"
   ]
  },
  {
   "cell_type": "code",
   "execution_count": 8,
   "metadata": {},
   "outputs": [],
   "source": [
    "#se importan las librerias\n",
    "import numpy as np\n",
    "import matplotlib.pyplot as plt\n",
    "import pandas as pd"
   ]
  },
  {
   "cell_type": "code",
   "execution_count": 9,
   "metadata": {},
   "outputs": [],
   "source": [
    "#se define la funcion montecarlo1\n",
    "def montecarlo1(f, a, b, N):\n",
    "    #genera N puntos uniformemente distribuidos en el intervalo [a, b)\n",
    "    ui=np.random.uniform(a,b,N)\n",
    "    #evaluar la funcion en los N puntos aleatorios, obtener el promedio y multiplicarlo por el int\n",
    "    integral=((b-a)/N)*np.sum(f(ui))\n",
    "    #integral=(b-a)*np.mean(f(ui)) #esta ecuacion es equivalente a la de arriba\n",
    "    return integral"
   ]
  },
  {
   "cell_type": "code",
   "execution_count": 10,
   "metadata": {},
   "outputs": [],
   "source": [
    "#se definen las dos funciones de Tarea 5\n",
    "def f1(x):\n",
    "    return np.log10(2*x)+8**x\n",
    "def f2(x):\n",
    "    return 2**x/x**4"
   ]
  },
  {
   "cell_type": "code",
   "execution_count": 11,
   "metadata": {},
   "outputs": [],
   "source": [
    "#se definen los limites de la integracion\n",
    "a,b=1, 5\n"
   ]
  },
  {
   "cell_type": "code",
   "execution_count": 12,
   "metadata": {},
   "outputs": [],
   "source": [
    "#se definen las cantidas de terminos 10, 100, 1000, 10000, 100000\n",
    "N=np.logspace(1,5,5).astype(int)\n"
   ]
  },
  {
   "cell_type": "code",
   "execution_count": 13,
   "metadata": {},
   "outputs": [
    {
     "data": {
      "text/html": [
       "<div>\n",
       "<style scoped>\n",
       "    .dataframe tbody tr th:only-of-type {\n",
       "        vertical-align: middle;\n",
       "    }\n",
       "\n",
       "    .dataframe tbody tr th {\n",
       "        vertical-align: top;\n",
       "    }\n",
       "\n",
       "    .dataframe thead th {\n",
       "        text-align: right;\n",
       "    }\n",
       "</style>\n",
       "<table border=\"1\" class=\"dataframe\">\n",
       "  <thead>\n",
       "    <tr style=\"text-align: right;\">\n",
       "      <th></th>\n",
       "      <th>Aprox f1</th>\n",
       "      <th>Aprox f2</th>\n",
       "    </tr>\n",
       "    <tr>\n",
       "      <th>cantidad de terminos</th>\n",
       "      <th></th>\n",
       "      <th></th>\n",
       "    </tr>\n",
       "  </thead>\n",
       "  <tbody>\n",
       "    <tr>\n",
       "      <th>10</th>\n",
       "      <td>10968.074501</td>\n",
       "      <td>1.278389</td>\n",
       "    </tr>\n",
       "    <tr>\n",
       "      <th>100</th>\n",
       "      <td>16182.123626</td>\n",
       "      <td>1.091214</td>\n",
       "    </tr>\n",
       "    <tr>\n",
       "      <th>1000</th>\n",
       "      <td>17065.20504</td>\n",
       "      <td>0.9778</td>\n",
       "    </tr>\n",
       "    <tr>\n",
       "      <th>10000</th>\n",
       "      <td>15968.608432</td>\n",
       "      <td>1.032898</td>\n",
       "    </tr>\n",
       "    <tr>\n",
       "      <th>100000</th>\n",
       "      <td>15848.291966</td>\n",
       "      <td>1.00534</td>\n",
       "    </tr>\n",
       "  </tbody>\n",
       "</table>\n",
       "</div>"
      ],
      "text/plain": [
       "                          Aprox f1  Aprox f2\n",
       "cantidad de terminos                        \n",
       "10                    10968.074501  1.278389\n",
       "100                   16182.123626  1.091214\n",
       "1000                   17065.20504    0.9778\n",
       "10000                 15968.608432  1.032898\n",
       "100000                15848.291966   1.00534"
      ]
     },
     "execution_count": 13,
     "metadata": {},
     "output_type": "execute_result"
    }
   ],
   "source": [
    "#se crea el DataFrame de pandas (tabla) que contendra la informacion\n",
    "tabla = pd.DataFrame(index=N, columns=['Aprox f1','Aprox f2'])\n",
    "\n",
    "#se agrega nombre al indice para que aparezca en la tabla\n",
    "tabla.index.name = 'cantidad de terminos'\n",
    "\n",
    "#rellenar las celdas de la aproximacion de cada funcion\n",
    "for n in N:\n",
    "    aprox_f1= montecarlo1(f1, a, b, n)\n",
    "    aprox_f2= montecarlo1(f2, a, b, n)\n",
    "    \n",
    "    tabla.loc[n, 'Aprox f1']=aprox_f1\n",
    "    tabla.loc[n, 'Aprox f2']=aprox_f2\n",
    " \n",
    "#se muestra la tabla\n",
    "tabla\n",
    "    "
   ]
  }
 ],
 "metadata": {
  "kernelspec": {
   "display_name": "Python 3 (ipykernel)",
   "language": "python",
   "name": "python3"
  },
  "language_info": {
   "codemirror_mode": {
    "name": "ipython",
    "version": 3
   },
   "file_extension": ".py",
   "mimetype": "text/x-python",
   "name": "python",
   "nbconvert_exporter": "python",
   "pygments_lexer": "ipython3",
   "version": "3.11.4"
  }
 },
 "nbformat": 4,
 "nbformat_minor": 4
}
