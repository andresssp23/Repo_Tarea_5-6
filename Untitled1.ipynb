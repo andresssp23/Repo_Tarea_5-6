{
 "cells": [
  {
   "cell_type": "code",
   "execution_count": 5,
   "id": "4bb07e32",
   "metadata": {},
   "outputs": [
    {
     "ename": "IndentationError",
     "evalue": "expected an indented block after function definition on line 4 (1711926408.py, line 5)",
     "output_type": "error",
     "traceback": [
      "\u001b[1;36m  Cell \u001b[1;32mIn[5], line 5\u001b[1;36m\u001b[0m\n\u001b[1;33m    return x**2 + 2*(y**2) <= -2*x + 8*y - 7\u001b[0m\n\u001b[1;37m    ^\u001b[0m\n\u001b[1;31mIndentationError\u001b[0m\u001b[1;31m:\u001b[0m expected an indented block after function definition on line 4\n"
     ]
    }
   ],
   "source": [
    "import numpy as np\n",
    "import matplotlib.pyplot as plt\n",
    "import pandas as pd\n",
    "def region(x, y):\n",
    "return x**2 + 2*(y**2) <= -2*x + 8*y - 7"
   ]
  },
  {
   "cell_type": "code",
   "execution_count": 2,
   "id": "642b82af",
   "metadata": {},
   "outputs": [
    {
     "ename": "IndentationError",
     "evalue": "expected an indented block after function definition on line 1 (3842287094.py, line 2)",
     "output_type": "error",
     "traceback": [
      "\u001b[1;36m  Cell \u001b[1;32mIn[2], line 2\u001b[1;36m\u001b[0m\n\u001b[1;33m    return x**2 + 2*(y**2) <= -2*x + 8*y - 7\u001b[0m\n\u001b[1;37m    ^\u001b[0m\n\u001b[1;31mIndentationError\u001b[0m\u001b[1;31m:\u001b[0m expected an indented block after function definition on line 1\n"
     ]
    }
   ],
   "source": []
  },
  {
   "cell_type": "code",
   "execution_count": null,
   "id": "0266b628",
   "metadata": {},
   "outputs": [],
   "source": [
    "xnum = np.linspace(-4, 2, 500)\n",
    "ynum = np.linspace(0, 4, 500)\n",
    "\n",
    "X, Y = np.meshgrid(xnum, ynum)"
   ]
  },
  {
   "cell_type": "code",
   "execution_count": 3,
   "id": "3e4a596d",
   "metadata": {},
   "outputs": [
    {
     "ename": "IndentationError",
     "evalue": "expected an indented block after function definition on line 1 (4013077177.py, line 2)",
     "output_type": "error",
     "traceback": [
      "\u001b[1;36m  Cell \u001b[1;32mIn[3], line 2\u001b[1;36m\u001b[0m\n\u001b[1;33m    AR = (b1-a1)*(b2-a2)\u001b[0m\n\u001b[1;37m    ^\u001b[0m\n\u001b[1;31mIndentationError\u001b[0m\u001b[1;31m:\u001b[0m expected an indented block after function definition on line 1\n"
     ]
    }
   ],
   "source": [
    "def montecarlo2(region, a1, b1, a2, b2, N):\n",
    "AR = (b1-a1)*(b2-a2)\n",
    "x = np.random.uniform(a1, b1, N)\n",
    "y = np.random.uniform(a2, b2, N)\n",
    "bi = region(x, y)\n",
    "AD_approx = AR*np.mean(bi)\n",
    "return AD_approx"
   ]
  },
  {
   "cell_type": "code",
   "execution_count": 4,
   "id": "aa4eb5cf",
   "metadata": {},
   "outputs": [
    {
     "ename": "NameError",
     "evalue": "name 'X' is not defined",
     "output_type": "error",
     "traceback": [
      "\u001b[1;31m---------------------------------------------------------------------------\u001b[0m",
      "\u001b[1;31mNameError\u001b[0m                                 Traceback (most recent call last)",
      "Cell \u001b[1;32mIn[4], line 3\u001b[0m\n\u001b[0;32m      1\u001b[0m plt\u001b[38;5;241m.\u001b[39mfigure(figsize\u001b[38;5;241m=\u001b[39m(\u001b[38;5;241m9\u001b[39m, \u001b[38;5;241m9\u001b[39m))\n\u001b[1;32m----> 3\u001b[0m plt\u001b[38;5;241m.\u001b[39mscatter(X, Y, c\u001b[38;5;241m=\u001b[39m\u001b[38;5;241m~\u001b[39mregion(X,Y), cmap\u001b[38;5;241m=\u001b[39m\u001b[38;5;124m'\u001b[39m\u001b[38;5;124mbone\u001b[39m\u001b[38;5;124m'\u001b[39m) \n\u001b[0;32m      5\u001b[0m plt\u001b[38;5;241m.\u001b[39mgrid()\n\u001b[0;32m      6\u001b[0m plt\u001b[38;5;241m.\u001b[39mshow()\n",
      "\u001b[1;31mNameError\u001b[0m: name 'X' is not defined"
     ]
    },
    {
     "data": {
      "text/plain": [
       "<Figure size 900x900 with 0 Axes>"
      ]
     },
     "metadata": {},
     "output_type": "display_data"
    }
   ],
   "source": [
    "plt.figure(figsize=(9, 9))\n",
    "\n",
    "plt.scatter(X, Y, c=~region(X,Y), cmap='bone') \n",
    "\n",
    "plt.grid()\n",
    "plt.show()"
   ]
  },
  {
   "cell_type": "code",
   "execution_count": null,
   "id": "bad16ddc",
   "metadata": {},
   "outputs": [],
   "source": [
    "from scipy import integrate\n",
    "\n",
    "# Función que define la región\n",
    "def region(x, y):\n",
    "return x**2 + 2*(y**2) <= -2*x + 8*y - 7"
   ]
  },
  {
   "cell_type": "code",
   "execution_count": null,
   "id": "dbb06da7",
   "metadata": {},
   "outputs": [],
   "source": [
    "# Definir los límites de integración como una lista de tuplas\n",
    "limits = [(a1, b1), (a2, b2)]\n",
    "\n",
    "# Calcular el área exacta mediante integración numérica\n",
    "area_exacta, _ = integrate.nquad(region, limits, opts={'limit': 100})"
   ]
  },
  {
   "cell_type": "code",
   "execution_count": null,
   "id": "ad180b23",
   "metadata": {},
   "outputs": [],
   "source": [
    "print(\"Área Exacta:\", area_exacta)"
   ]
  }
 ],
 "metadata": {
  "kernelspec": {
   "display_name": "Python 3 (ipykernel)",
   "language": "python",
   "name": "python3"
  },
  "language_info": {
   "codemirror_mode": {
    "name": "ipython",
    "version": 3
   },
   "file_extension": ".py",
   "mimetype": "text/x-python",
   "name": "python",
   "nbconvert_exporter": "python",
   "pygments_lexer": "ipython3",
   "version": "3.11.4"
  }
 },
 "nbformat": 4,
 "nbformat_minor": 5
}
